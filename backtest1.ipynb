{
 "cells": [
  {
   "cell_type": "code",
   "execution_count": null,
   "id": "93fed8fa",
   "metadata": {},
   "outputs": [
    {
     "data": {
      "text/html": [
       "<div>\n",
       "<style scoped>\n",
       "    .dataframe tbody tr th:only-of-type {\n",
       "        vertical-align: middle;\n",
       "    }\n",
       "\n",
       "    .dataframe tbody tr th {\n",
       "        vertical-align: top;\n",
       "    }\n",
       "\n",
       "    .dataframe thead th {\n",
       "        text-align: right;\n",
       "    }\n",
       "</style>\n",
       "<table border=\"1\" class=\"dataframe\">\n",
       "  <thead>\n",
       "    <tr style=\"text-align: right;\">\n",
       "      <th></th>\n",
       "      <th>ATR_WINDOW</th>\n",
       "      <th>EMA_LONG</th>\n",
       "      <th>SL_ATR_MULT</th>\n",
       "      <th>TP_ATR_MULT</th>\n",
       "      <th>VOL_MULT</th>\n",
       "      <th>RISK_PCT</th>\n",
       "      <th>REGIME_MULT</th>\n",
       "      <th>sharpe</th>\n",
       "      <th>num_entries</th>\n",
       "    </tr>\n",
       "  </thead>\n",
       "  <tbody>\n",
       "    <tr>\n",
       "      <th>0</th>\n",
       "      <td>8</td>\n",
       "      <td>114</td>\n",
       "      <td>1.115595</td>\n",
       "      <td>7.894272</td>\n",
       "      <td>1.224078</td>\n",
       "      <td>0.008559</td>\n",
       "      <td>1.954206</td>\n",
       "      <td>0.799638</td>\n",
       "      <td>18</td>\n",
       "    </tr>\n",
       "  </tbody>\n",
       "</table>\n",
       "</div>"
      ],
      "text/plain": [
       "   ATR_WINDOW  EMA_LONG  SL_ATR_MULT  TP_ATR_MULT  VOL_MULT  RISK_PCT  \\\n",
       "0           8       114     1.115595     7.894272  1.224078  0.008559   \n",
       "\n",
       "   REGIME_MULT    sharpe  num_entries  \n",
       "0     1.954206  0.799638           18  "
      ]
     },
     "execution_count": 10,
     "metadata": {},
     "output_type": "execute_result"
    }
   ],
   "source": [
    "# ── Cell 1: Imports & Load Combos ──────────────────────────────────\n",
    "import pandas as pd\n",
    "from ml_way2 import (\n",
    "    load_and_normalize,\n",
    "    limit_to_last_n_days,\n",
    "    split_by_days,\n",
    "    preprocess_1h,\n",
    "    preprocess_5m,\n",
    "    run_backtest,\n",
    "    DATA_5M,\n",
    "    DATA_1H,\n",
    "    LIMITER_DAYS,\n",
    "    TRAIN_PCT,\n",
    ")\n",
    "\n",
    "# load your saved top‐K CSV (adjust filename as needed)\n",
    "combos = pd.read_csv(\"top_HistGBM_combos_filtered.csv\")\n",
    "combos\n"
   ]
  },
  {
   "cell_type": "code",
   "execution_count": 11,
   "id": "43082586",
   "metadata": {},
   "outputs": [
    {
     "name": "stdout",
     "output_type": "stream",
     "text": [
      "/Users/harit/algo_crypto/mymodules\n"
     ]
    }
   ],
   "source": [
    "!pwd"
   ]
  },
  {
   "cell_type": "code",
   "execution_count": 12,
   "id": "aef1211a",
   "metadata": {},
   "outputs": [
    {
     "name": "stdout",
     "output_type": "stream",
     "text": [
      "Out-of-sample bars (5m): 15619\n",
      "Out-of-sample bars (1h): 1302\n"
     ]
    }
   ],
   "source": [
    "# ── Cell 2: Prepare Out-of-Sample Data ────────────────────────────\n",
    "# 1) load full last-N-days data\n",
    "df5  = limit_to_last_n_days(load_and_normalize(DATA_5M), LIMITER_DAYS)\n",
    "df1h = limit_to_last_n_days(load_and_normalize(DATA_1H), LIMITER_DAYS)\n",
    "\n",
    "# 2) split into train/test by day, then select the test slice\n",
    "tr_days, ts_days = split_by_days(df5, TRAIN_PCT)\n",
    "df5_ts  = df5[df5[\"datetime\"].dt.normalize().isin(ts_days)].reset_index(drop=True)\n",
    "df1h_ts = df1h[df1h[\"datetime\"].dt.normalize().isin(ts_days)].reset_index(drop=True)\n",
    "\n",
    "print(f\"Out-of-sample bars (5m): {len(df5_ts)}\")\n",
    "print(f\"Out-of-sample bars (1h): {len(df1h_ts)}\")\n"
   ]
  },
  {
   "cell_type": "code",
   "execution_count": 13,
   "id": "5aebc132",
   "metadata": {},
   "outputs": [
    {
     "name": "stdout",
     "output_type": "stream",
     "text": [
      "\n",
      "=== PARAMS {'ATR_WINDOW': 8.0, 'EMA_LONG': 114.0, 'SL_ATR_MULT': 1.1155952404844922, 'TP_ATR_MULT': 7.894271701451638, 'VOL_MULT': 1.2240778043361047, 'RISK_PCT': 0.008559256381869, 'REGIME_MULT': 1.9542056499130531} ===\n",
      "Total bars: 15585\n",
      "After EMA:       7974/15585\n",
      "After RSI+BO:     360/15585\n",
      "After ADX+ATR:   4120/15585\n",
      "After 1h trend:  8688/15585\n",
      "After vol spike: 3897/15585\n",
      "After VWAP band: 6277/15585\n",
      "After session:   14938/15585\n",
      "After regime:     130/15585\n",
      "After combine:      8 entries\n",
      "\n"
     ]
    },
    {
     "data": {
      "text/html": [
       "<div>\n",
       "<style scoped>\n",
       "    .dataframe tbody tr th:only-of-type {\n",
       "        vertical-align: middle;\n",
       "    }\n",
       "\n",
       "    .dataframe tbody tr th {\n",
       "        vertical-align: top;\n",
       "    }\n",
       "\n",
       "    .dataframe thead th {\n",
       "        text-align: right;\n",
       "    }\n",
       "</style>\n",
       "<table border=\"1\" class=\"dataframe\">\n",
       "  <thead>\n",
       "    <tr style=\"text-align: right;\">\n",
       "      <th></th>\n",
       "      <th>total_return_pct</th>\n",
       "      <th>annualized_return_pct</th>\n",
       "      <th>sharpe_ratio</th>\n",
       "      <th>max_drawdown_pct</th>\n",
       "      <th>win_rate_pct</th>\n",
       "      <th>num_trades</th>\n",
       "      <th>profit_factor</th>\n",
       "      <th>avg_win_usd</th>\n",
       "      <th>avg_loss_usd</th>\n",
       "      <th>max_win_usd</th>\n",
       "      <th>max_loss_usd</th>\n",
       "      <th>avg_duration_min</th>\n",
       "      <th>final_balance_usdt</th>\n",
       "      <th>ATR_WINDOW</th>\n",
       "      <th>EMA_LONG</th>\n",
       "      <th>SL_ATR_MULT</th>\n",
       "      <th>TP_ATR_MULT</th>\n",
       "      <th>VOL_MULT</th>\n",
       "      <th>RISK_PCT</th>\n",
       "      <th>REGIME_MULT</th>\n",
       "    </tr>\n",
       "  </thead>\n",
       "  <tbody>\n",
       "    <tr>\n",
       "      <th>0</th>\n",
       "      <td>26.593947</td>\n",
       "      <td>554.188646</td>\n",
       "      <td>0.388677</td>\n",
       "      <td>-11.859752</td>\n",
       "      <td>83.333333</td>\n",
       "      <td>12</td>\n",
       "      <td>2.561236</td>\n",
       "      <td>2.530416</td>\n",
       "      <td>-4.939833</td>\n",
       "      <td>5.217098</td>\n",
       "      <td>-8.008986</td>\n",
       "      <td>8.75</td>\n",
       "      <td>73.424489</td>\n",
       "      <td>8.0</td>\n",
       "      <td>114.0</td>\n",
       "      <td>1.115595</td>\n",
       "      <td>7.894272</td>\n",
       "      <td>1.224078</td>\n",
       "      <td>0.008559</td>\n",
       "      <td>1.954206</td>\n",
       "    </tr>\n",
       "  </tbody>\n",
       "</table>\n",
       "</div>"
      ],
      "text/plain": [
       "   total_return_pct  annualized_return_pct  sharpe_ratio  max_drawdown_pct  \\\n",
       "0         26.593947             554.188646      0.388677        -11.859752   \n",
       "\n",
       "   win_rate_pct  num_trades  profit_factor  avg_win_usd  avg_loss_usd  \\\n",
       "0     83.333333          12       2.561236     2.530416     -4.939833   \n",
       "\n",
       "   max_win_usd  max_loss_usd  avg_duration_min  final_balance_usdt  \\\n",
       "0     5.217098     -8.008986              8.75           73.424489   \n",
       "\n",
       "   ATR_WINDOW  EMA_LONG  SL_ATR_MULT  TP_ATR_MULT  VOL_MULT  RISK_PCT  \\\n",
       "0         8.0     114.0     1.115595     7.894272  1.224078  0.008559   \n",
       "\n",
       "   REGIME_MULT  \n",
       "0     1.954206  "
      ]
     },
     "execution_count": 13,
     "metadata": {},
     "output_type": "execute_result"
    }
   ],
   "source": [
    "# ── Cell 3: Backtest Each Combo ───────────────────────────────────\n",
    "results = []\n",
    "\n",
    "for idx, row in combos.iterrows():\n",
    "    # extract just the parameter cols\n",
    "    params = row.drop([\"sharpe\", \"num_entries\"]).to_dict()\n",
    "\n",
    "    # preprocess\n",
    "    hf = preprocess_1h(df1h_ts, params)\n",
    "    b5 = preprocess_5m(df5_ts.copy(), params, hf)\n",
    "\n",
    "    # backtest\n",
    "    trades, metrics = run_backtest(b5, params)\n",
    "\n",
    "    # attach params for reference\n",
    "    metrics.update(params)\n",
    "    results.append(metrics)\n",
    "\n",
    "# assemble results\n",
    "results_df = pd.DataFrame(results)\n",
    "results_df\n"
   ]
  },
  {
   "cell_type": "code",
   "execution_count": 14,
   "id": "ffdfefde",
   "metadata": {},
   "outputs": [
    {
     "name": "stdout",
     "output_type": "stream",
     "text": [
      "\n",
      "=== PARAMS {'ATR_WINDOW': 8.0, 'EMA_LONG': 114.0, 'SL_ATR_MULT': 1.1155952404844922, 'TP_ATR_MULT': 7.894271701451638, 'VOL_MULT': 1.2240778043361047, 'RISK_PCT': 0.008559256381869, 'REGIME_MULT': 1.9542056499130531} ===\n",
      "Total bars: 15585\n",
      "After EMA:       7974/15585\n",
      "After RSI+BO:     360/15585\n",
      "After ADX+ATR:   4120/15585\n",
      "After 1h trend:  8688/15585\n",
      "After vol spike: 3897/15585\n",
      "After VWAP band: 6277/15585\n",
      "After session:   14938/15585\n",
      "After regime:     130/15585\n",
      "After combine:      8 entries\n",
      "\n"
     ]
    },
    {
     "data": {
      "image/png": "[encoded data removed]",
      "text/plain": [
       "<Figure size 640x480 with 1 Axes>"
      ]
     },
     "metadata": {},
     "output_type": "display_data"
    }
   ],
   "source": [
    "# ── Cell 4: (Optional) Quick Equity‐Curve Plot for Combo 0 ───────\n",
    "import matplotlib.pyplot as plt\n",
    "\n",
    "# re-run trades for combo 0 to get its trade DataFrame\n",
    "params0 = combos.drop([\"sharpe\",\"num_entries\"], axis=1).iloc[0].to_dict()\n",
    "hf0 = preprocess_1h(df1h_ts, params0)\n",
    "b50 = preprocess_5m(df5_ts.copy(), params0, hf0)\n",
    "trades0, _ = run_backtest(b50, params0)\n",
    "\n",
    "if not trades0.empty:\n",
    "    plt.plot(trades0[\"exit_dt\"], trades0[\"total\"])\n",
    "    plt.xlabel(\"Exit Time\")\n",
    "    plt.ylabel(\"Equity (USDT)\")\n",
    "    plt.title(\"Equity Curve — Combo 0\")\n",
    "    plt.xticks(rotation=30)\n",
    "    plt.tight_layout()\n",
    "    plt.show()\n",
    "else:\n",
    "    print(\"No trades for combo 0\")\n"
   ]
  },
  {
   "cell_type": "code",
   "execution_count": null,
   "id": "3dde34f4",
   "metadata": {},
   "outputs": [],
   "source": []
  },
  {
   "cell_type": "code",
   "execution_count": null,
   "id": "071fafaa",
   "metadata": {},
   "outputs": [],
   "source": []
  },
  {
   "cell_type": "code",
   "execution_count": null,
   "id": "ce1b20b8",
   "metadata": {},
   "outputs": [],
   "source": []
  }
 ],
 "metadata": {
  "kernelspec": {
   "display_name": "myvenv",
   "language": "python",
   "name": "python3"
  },
  "language_info": {
   "codemirror_mode": {
    "name": "ipython",
    "version": 3
   },
   "file_extension": ".py",
   "mimetype": "text/x-python",
   "name": "python",
   "nbconvert_exporter": "python",
   "pygments_lexer": "ipython3",
   "version": "3.12.10"
  }
 },
 "nbformat": 4,
 "nbformat_minor": 5
}
